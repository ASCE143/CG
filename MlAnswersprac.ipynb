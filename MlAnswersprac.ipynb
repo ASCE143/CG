{
 "cells": [
  {
   "cell_type": "code",
   "execution_count": null,
   "id": "adce8f66-a1db-4c63-9741-42ae0a928d7a",
   "metadata": {},
   "outputs": [],
   "source": [
    "Ques 1\n",
    ".\tLoad the data from ‘ex1data1.txt’. The first column is the population of a city and the second column is the profit of a food truck in that city. A negative value for profit indicates a loss\n",
    "Perform the following:\n",
    "a.\tVisualize the data using the appropriate plot.\n",
    "b.\tPrint the description of the data.\n",
    "c.\tCheck if attributes have a linear relationship, and apply the Linear Regression model. (Train/Test  split = 80/20)\n",
    "d.\tFind and print the regression parameters.\n",
    "e.\tFind the goodness of the model using R-squared (Co-efficient of Determination).\n",
    "f.\tCompute MSE for the instances in the test set.\n",
    "provide the code for all the steps"
   ]
  },
  {
   "cell_type": "code",
   "execution_count": null,
   "id": "fce34a01-43f7-446c-aadc-d276c3ad4524",
   "metadata": {},
   "outputs": [],
   "source": [
    "ques 1 \n",
    "A.\n",
    "import numpy as np\n",
    "\n",
    "# Load data from file\n",
    "data = np.loadtxt('ex1data1.txt', delimiter=',')\n",
    "X = data[:, 0]  # Population\n",
    "y = data[:, 1]  # Profit\n"
   ]
  },
  {
   "cell_type": "code",
   "execution_count": null,
   "id": "60ef4a6e-8a99-4049-b5e2-ca32c78c10e7",
   "metadata": {},
   "outputs": [],
   "source": [
    "B.\n",
    "import matplotlib.pyplot as plt\n",
    "\n",
    "# Plotting the data\n",
    "plt.scatter(X, y, color='blue')\n",
    "plt.xlabel('Population of City (10,000s)')\n",
    "plt.ylabel('Profit ($10,000s)')\n",
    "plt.title('Profit vs Population')\n",
    "plt.show()\n"
   ]
  },
  {
   "cell_type": "code",
   "execution_count": null,
   "id": "5d7c08a5-44b0-4e80-a636-f456ee2b5a5c",
   "metadata": {},
   "outputs": [],
   "source": [
    "C.\n",
    "print(\"Number of samples:\", len(X))\n",
    "print(\"Mean population:\", np.mean(X))\n",
    "print(\"Mean profit:\", np.mean(y))\n",
    "print(\"Standard deviation of population:\", np.std(X))\n",
    "print(\"Standard deviation of profit:\", np.std(y))\n"
   ]
  },
  {
   "cell_type": "code",
   "execution_count": null,
   "id": "ef628b75-9454-40ac-a224-51cdb25938aa",
   "metadata": {},
   "outputs": [],
   "source": [
    "D.\n",
    "from sklearn.model_selection import train_test_split\n",
    "from sklearn.linear_model import LinearRegression\n",
    "from sklearn.metrics import r2_score, mean_squared_error\n",
    "\n",
    "# Reshape X to 2D array\n",
    "X = X.reshape(-1, 1)\n",
    "\n",
    "# Split data into training and testing sets\n",
    "X_train, X_test, y_train, y_test = train_test_split(X, y, test_size=0.2, random_state=42)\n",
    "\n",
    "# Create and fit the model\n",
    "model = LinearRegression()\n",
    "model.fit(X_train, y_train)\n",
    "\n",
    "# Make predictions\n",
    "y_pred = model.predict(X_test)\n"
   ]
  },
  {
   "cell_type": "code",
   "execution_count": null,
   "id": "11c3f8d3-3c27-4151-9a59-becd20aff4bf",
   "metadata": {},
   "outputs": [],
   "source": [
    "E.\n",
    "print(\"Intercept:\", model.intercept_)\n",
    "print(\"Coefficient:\", model.coef_[0])\n"
   ]
  },
  {
   "cell_type": "code",
   "execution_count": null,
   "id": "796d5973-08e2-4fc0-ac6f-962496f88427",
   "metadata": {},
   "outputs": [],
   "source": [
    "F.\n",
    "r_squared = r2_score(y_test, y_pred)\n",
    "print(\"R-squared (Coefficient of Determination):\", r_squared)\n"
   ]
  },
  {
   "cell_type": "code",
   "execution_count": null,
   "id": "a14c775a-9678-4805-a80b-58e6f1d05100",
   "metadata": {},
   "outputs": [],
   "source": [
    "G.\n",
    "mse = mean_squared_error(y_test, y_pred)\n",
    "print(\"Mean Squared Error (MSE):\", mse)\n"
   ]
  },
  {
   "cell_type": "code",
   "execution_count": null,
   "id": "916cbf1c-4564-4d66-bfa7-b2ff71b7fc37",
   "metadata": {},
   "outputs": [],
   "source": [
    "------------------------------------------------------------------------------------------------------------------------------"
   ]
  },
  {
   "cell_type": "code",
   "execution_count": null,
   "id": "8062c813-0f64-4d87-b68a-6bd1eefa824a",
   "metadata": {},
   "outputs": [],
   "source": [
    "ques 2\n",
    "2.\tLoad the data from ‘ex1data2.txt’ contains a training set of housing prices in Portland, Oregon. The first column is the size of the house (in square feet), the second column is the number of bedrooms, and the third column is the price of the house.\n",
    "Perform the following:\n",
    "a.\tPrint the description of the data.\n",
    "b.\tApply the Linear Regression model. (Train/Test  split = 80/20)\n",
    "c.\tFind and print the regression parameters.\n",
    "d.\tFind the goodness of the model using R2.\n",
    "e.\tCompute MSE for the instances in the test set."
   ]
  },
  {
   "cell_type": "code",
   "execution_count": null,
   "id": "66ecc2a1-d108-46da-b7a1-bfb68335fd52",
   "metadata": {},
   "outputs": [],
   "source": [
    "A.\n",
    "import numpy as np\n",
    "\n",
    "# Load data from file\n",
    "data = np.loadtxt('ex1data2.txt', delimiter=',')\n",
    "X = data[:, :2]  # Features: Size of house, Number of bedrooms\n",
    "y = data[:, 2]   # Price of the house\n"
   ]
  },
  {
   "cell_type": "code",
   "execution_count": null,
   "id": "2809882d-d8c3-4aec-ba8a-afdbeca3f4d6",
   "metadata": {},
   "outputs": [],
   "source": [
    "B.\n",
    "print(\"Number of samples:\", len(X))\n",
    "print(\"Mean size of house:\", np.mean(X[:, 0]))\n",
    "print(\"Mean number of bedrooms:\", np.mean(X[:, 1]))\n",
    "print(\"Mean house price:\", np.mean(y))\n",
    "print(\"Standard deviation of size of house:\", np.std(X[:, 0]))\n",
    "print(\"Standard deviation of number of bedrooms:\", np.std(X[:, 1]))\n",
    "print(\"Standard deviation of house price:\", np.std(y))\n"
   ]
  },
  {
   "cell_type": "code",
   "execution_count": null,
   "id": "5cb7ec3f-aacb-43d9-a0f1-375e546dd0c4",
   "metadata": {},
   "outputs": [],
   "source": [
    "C.\n",
    "from sklearn.model_selection import train_test_split\n",
    "from sklearn.linear_model import LinearRegression\n",
    "from sklearn.metrics import r2_score, mean_squared_error\n",
    "\n",
    "# Split data into training and testing sets\n",
    "X_train, X_test, y_train, y_test = train_test_split(X, y, test_size=0.2, random_state=42)\n",
    "\n",
    "# Create and fit the model\n",
    "model = LinearRegression()\n",
    "model.fit(X_train, y_train)\n",
    "\n",
    "# Make predictions\n",
    "y_pred = model.predict(X_test)\n"
   ]
  },
  {
   "cell_type": "code",
   "execution_count": null,
   "id": "df7d9a54-1621-46f2-9328-fa95d806ddb9",
   "metadata": {},
   "outputs": [],
   "source": [
    "D.\n",
    "print(\"Intercept:\", model.intercept_)\n",
    "print(\"Coefficients:\", model.coef_)\n"
   ]
  },
  {
   "cell_type": "code",
   "execution_count": null,
   "id": "8e034a44-fbb5-4b23-ac2c-35fac72f4b11",
   "metadata": {},
   "outputs": [],
   "source": [
    "E.\n",
    "r_squared = r2_score(y_test, y_pred)\n",
    "print(\"R-squared (Coefficient of Determination):\", r_squared)\n"
   ]
  },
  {
   "cell_type": "code",
   "execution_count": null,
   "id": "1a713125-e606-4935-86c6-ee9e87a79289",
   "metadata": {},
   "outputs": [],
   "source": [
    "F.\n",
    "mse = mean_squared_error(y_test, y_pred)\n",
    "print(\"Mean Squared Error (MSE):\", mse)\n"
   ]
  },
  {
   "cell_type": "code",
   "execution_count": null,
   "id": "05862eb7-fa35-4466-b9b6-0d790419b1d0",
   "metadata": {},
   "outputs": [],
   "source": [
    "--------------------------------------------------------------------------------------------------------------------------------"
   ]
  },
  {
   "cell_type": "code",
   "execution_count": null,
   "id": "8948d54d-269b-471e-bd34-5bf28500cb70",
   "metadata": {},
   "outputs": [],
   "source": [
    "3.\tLoad the data from ‘canada_per_capita_income.csv’. Use this to build a regression model and predict the per capita income for \n",
    "Canadian citizens in the year 2020. Predict Canada’s per capita income in the year 2020. (Expected Output - 41288.69409442)"
   ]
  },
  {
   "cell_type": "code",
   "execution_count": null,
   "id": "fa4ceda7-02d3-4b9b-9a0b-5c6435228772",
   "metadata": {},
   "outputs": [],
   "source": [
    "import pandas as pd\n",
    "\n",
    "# Load data from CSV file\n",
    "data = pd.read_csv('canada_per_capita_income.csv')\n",
    "X = data[['Year']]  # Features: Year\n",
    "y = data['Per Capita Income (US$)']  # Target variable: Per Capita Income\n"
   ]
  },
  {
   "cell_type": "code",
   "execution_count": null,
   "id": "4abb4376-69eb-4aba-b195-5a5c99727b31",
   "metadata": {},
   "outputs": [],
   "source": [
    "from sklearn.linear_model import LinearRegression\n",
    "\n",
    "# Create and fit the model\n",
    "model = LinearRegression()\n",
    "model.fit(X, y)\n"
   ]
  },
  {
   "cell_type": "code",
   "execution_count": null,
   "id": "b2979c22-f09c-432a-bc5c-4c5b071e0f2c",
   "metadata": {},
   "outputs": [],
   "source": [
    "# Predict per capita income for the year 2020\n",
    "year_2020 = [[2020]]\n",
    "predicted_income_2020 = model.predict(year_2020)\n",
    "print(\"Predicted Canada's per capita income in 2020:\", predicted_income_2020[0])\n"
   ]
  },
  {
   "cell_type": "code",
   "execution_count": null,
   "id": "122d8f37-eb68-4624-bb39-5d563799be50",
   "metadata": {},
   "outputs": [],
   "source": [
    "--------------------------------------------------------------------------------------------------------------------------------"
   ]
  },
  {
   "cell_type": "code",
   "execution_count": null,
   "id": "09cb5905-c6ad-470c-a31e-17d22fdb0b11",
   "metadata": {},
   "outputs": [],
   "source": [
    "Ques 4\n",
    "4.\tSuppose that you are the administrator of a university department and you want to determine each applicant’s chance of admission based on \n",
    "their results on two exams. You have historical data (“ex2data1.txt”) from previous applicants that you can use as a training set for logistic\n",
    "regression. For each training example, you have the applicant’s scores on two exams and the admissions decision. Your task is to build a\n",
    "classification model that estimates an applicant’s probability of admission based the scores from those two exams."
   ]
  },
  {
   "cell_type": "code",
   "execution_count": null,
   "id": "a2fadc80-4b32-481f-b362-9fa0b620f499",
   "metadata": {},
   "outputs": [],
   "source": [
    "import numpy as np\n",
    "\n",
    "# Load data from file\n",
    "data = np.loadtxt('ex2data1.txt', delimiter=',')\n",
    "X = data[:, :2]  # Exam scores (features)\n",
    "y = data[:, 2]   # Admission decision (target variable)\n"
   ]
  },
  {
   "cell_type": "code",
   "execution_count": null,
   "id": "b2742862-92bb-4b27-9325-59f161db4ec9",
   "metadata": {},
   "outputs": [],
   "source": [
    "import matplotlib.pyplot as plt\n",
    "\n",
    "# Separate positive (admitted) and negative (not admitted) examples\n",
    "admitted = data[data[:, 2] == 1]\n",
    "not_admitted = data[data[:, 2] == 0]\n",
    "\n",
    "# Plotting the data\n",
    "plt.scatter(admitted[:, 0], admitted[:, 1], marker='o', label='Admitted')\n",
    "plt.scatter(not_admitted[:, 0], not_admitted[:, 1], marker='x', label='Not Admitted')\n",
    "plt.xlabel('Exam 1 Score')\n",
    "plt.ylabel('Exam 2 Score')\n",
    "plt.legend()\n",
    "plt.title('Admission vs Exam Scores')\n",
    "plt.show()\n"
   ]
  },
  {
   "cell_type": "code",
   "execution_count": null,
   "id": "d6b29331-b689-4f9c-9085-959ea4a5a9d5",
   "metadata": {},
   "outputs": [],
   "source": [
    "from sklearn.linear_model import LogisticRegression\n",
    "\n",
    "# Create and fit the model\n",
    "model = LogisticRegression()\n",
    "model.fit(X, y)\n"
   ]
  },
  {
   "cell_type": "code",
   "execution_count": null,
   "id": "e2c2facb-081b-47c3-b487-53bbd7cc93c8",
   "metadata": {},
   "outputs": [],
   "source": [
    "# Predict probabilities of admission for all examples\n",
    "probabilities = model.predict_proba(X)\n",
    "predicted_admission = model.predict(X)\n",
    "\n",
    "# Example prediction for a new applicant with Exam 1 score=45 and Exam 2 score=85\n",
    "new_applicant_scores = np.array([[45, 85]])\n",
    "prob_admission_new = model.predict_proba(new_applicant_scores)\n",
    "print(\"Probability of admission for new applicant:\", prob_admission_new[:,1][0])\n"
   ]
  },
  {
   "cell_type": "code",
   "execution_count": null,
   "id": "6b6d9732-2090-452e-b69d-8af425e57d18",
   "metadata": {},
   "outputs": [],
   "source": [
    "----------------------------------------------------------------------------------------------------------------------------------"
   ]
  },
  {
   "cell_type": "code",
   "execution_count": null,
   "id": "9c37d03f-2d71-4ba6-a5df-8b1846c2f10a",
   "metadata": {},
   "outputs": [],
   "source": [
    "ques 5.\n",
    "Load the data from ‘HR_comma_sep.csv’. Use this to build a logistic regression model and compute the accuracy of model."
   ]
  },
  {
   "cell_type": "code",
   "execution_count": null,
   "id": "db895bac-f768-4345-b4e4-777700077ac8",
   "metadata": {},
   "outputs": [],
   "source": [
    "import pandas as pd\n",
    "from sklearn.model_selection import train_test_split\n",
    "from sklearn.preprocessing import StandardScaler\n",
    "\n",
    "# Load data from CSV file\n",
    "data = pd.read_csv('HR_comma_sep.csv')\n",
    "\n",
    "# Separate features and target variable\n",
    "X = data.drop(['left'], axis=1)  # Features\n",
    "y = data['left']  # Target variable\n",
    "\n",
    "# Split data into training and testing sets\n",
    "X_train, X_test, y_train, y_test = train_test_split(X, y, test_size=0.2, random_state=42)\n",
    "\n",
    "# Standardize features\n",
    "scaler = StandardScaler()\n",
    "X_train_scaled = scaler.fit_transform(X_train)\n",
    "X_test_scaled = scaler.transform(X_test)\n"
   ]
  },
  {
   "cell_type": "code",
   "execution_count": null,
   "id": "2c3c7f50-aa30-4b23-8dad-2c55840669da",
   "metadata": {},
   "outputs": [],
   "source": [
    "from sklearn.linear_model import LogisticRegression\n",
    "\n",
    "# Create and fit the model\n",
    "model = LogisticRegression()\n",
    "model.fit(X_train_scaled, y_train)\n"
   ]
  },
  {
   "cell_type": "code",
   "execution_count": null,
   "id": "dc9ffd86-197f-4902-a582-24cd61bccdbf",
   "metadata": {},
   "outputs": [],
   "source": [
    "from sklearn.metrics import accuracy_score\n",
    "\n",
    "# Make predictions\n",
    "y_pred = model.predict(X_test_scaled)\n",
    "\n",
    "# Compute accuracy\n",
    "accuracy = accuracy_score(y_test, y_pred)\n",
    "print(\"Accuracy of the logistic regression model:\", accuracy)\n"
   ]
  },
  {
   "cell_type": "code",
   "execution_count": null,
   "id": "4a65126a-3808-48bd-919b-6d1bd0afbaea",
   "metadata": {},
   "outputs": [],
   "source": [
    "--------------------------------------------------------------------------------------------------------------------------------"
   ]
  },
  {
   "cell_type": "code",
   "execution_count": null,
   "id": "a13f6d98-826f-41cf-bdc5-0edc3a28eebd",
   "metadata": {},
   "outputs": [],
   "source": [
    "6.\tLoad the data from ‘Naive-Bayes-Classification-Data.csv’. Use this to build a Naïve Bayes classifier and compute the accuracy of model."
   ]
  },
  {
   "cell_type": "code",
   "execution_count": null,
   "id": "12602e6f-f227-45a6-b2ed-2a462d7ea298",
   "metadata": {},
   "outputs": [],
   "source": [
    "import pandas as pd\n",
    "from sklearn.model_selection import train_test_split\n",
    "from sklearn.preprocessing import LabelEncoder\n",
    "\n",
    "# Load data from CSV file\n",
    "data = pd.read_csv('Naive-Bayes-Classification-Data.csv')\n",
    "\n",
    "# Separate features and target variable\n",
    "X = data.drop(['Class'], axis=1)  # Features\n",
    "y = data['Class']  # Target variable\n",
    "\n",
    "# Encode categorical features if needed\n",
    "label_encoder = LabelEncoder()\n",
    "X_encoded = X.apply(label_encoder.fit_transform)\n",
    "\n",
    "# Split data into training and testing sets\n",
    "X_train, X_test, y_train, y_test = train_test_split(X_encoded, y, test_size=0.2, random_state=42)\n"
   ]
  },
  {
   "cell_type": "code",
   "execution_count": null,
   "id": "087a6fa4-0153-4cc8-ac2e-d0475bac900d",
   "metadata": {},
   "outputs": [],
   "source": [
    "from sklearn.naive_bayes import GaussianNB\n",
    "\n",
    "# Create and fit the model\n",
    "model = GaussianNB()\n",
    "model.fit(X_train, y_train)\n"
   ]
  },
  {
   "cell_type": "code",
   "execution_count": null,
   "id": "700656be-6e3d-44d9-8bcf-af91ad5d7cc0",
   "metadata": {},
   "outputs": [],
   "source": [
    "from sklearn.metrics import accuracy_score\n",
    "\n",
    "# Make predictions\n",
    "y_pred = model.predict(X_test)\n",
    "\n",
    "# Compute accuracy\n",
    "accuracy = accuracy_score(y_test, y_pred)\n",
    "print(\"Accuracy of the Naive Bayes classifier:\", accuracy)\n"
   ]
  },
  {
   "cell_type": "code",
   "execution_count": null,
   "id": "d6f1cac6-3d0d-4cfc-aede-5c9a607bc73c",
   "metadata": {},
   "outputs": [],
   "source": [
    "------------------------------------------------------------------------------------------------------------------------"
   ]
  },
  {
   "cell_type": "code",
   "execution_count": null,
   "id": "257459f2-b3de-41e6-88f5-f785e4fd0793",
   "metadata": {},
   "outputs": [],
   "source": [
    "7.\tLoad Iris data-set. Use this to build a Naïve Bayes classifier and find the accuracy of the model."
   ]
  },
  {
   "cell_type": "code",
   "execution_count": null,
   "id": "771ca5ce-eed1-4318-848b-23697a928bcc",
   "metadata": {},
   "outputs": [],
   "source": [
    "from sklearn.datasets import load_iris\n",
    "\n",
    "# Load Iris dataset\n",
    "iris = load_iris()\n",
    "X = iris.data  # Features\n",
    "y = iris.target  # Target variable\n"
   ]
  },
  {
   "cell_type": "code",
   "execution_count": null,
   "id": "164a0004-fc95-4522-add0-3e110b6e8e31",
   "metadata": {},
   "outputs": [],
   "source": [
    "from sklearn.model_selection import train_test_split\n",
    "\n",
    "# Split data into training and testing sets\n",
    "X_train, X_test, y_train, y_test = train_test_split(X, y, test_size=0.2, random_state=42)\n"
   ]
  },
  {
   "cell_type": "code",
   "execution_count": null,
   "id": "0ef2f31f-d567-4c9a-9190-eebf0e0f61f6",
   "metadata": {},
   "outputs": [],
   "source": [
    "from sklearn.naive_bayes import GaussianNB\n",
    "\n",
    "# Create and fit the model\n",
    "nb_model = GaussianNB()\n",
    "nb_model.fit(X_train, y_train)\n"
   ]
  },
  {
   "cell_type": "code",
   "execution_count": null,
   "id": "89345d7d-790a-488f-a411-67dea0f37f57",
   "metadata": {},
   "outputs": [],
   "source": [
    "from sklearn.metrics import accuracy_score\n",
    "\n",
    "# Make predictions\n",
    "y_pred = nb_model.predict(X_test)\n",
    "\n",
    "# Compute accuracy\n",
    "accuracy = accuracy_score(y_test, y_pred)\n",
    "print(\"Accuracy of the Naive Bayes classifier on Iris dataset:\", accuracy)\n"
   ]
  },
  {
   "cell_type": "code",
   "execution_count": null,
   "id": "9d0c16cc-4146-41c2-aa20-e913c10703ed",
   "metadata": {},
   "outputs": [],
   "source": [
    "---------------------------------------------------------------------------------------------------"
   ]
  },
  {
   "cell_type": "code",
   "execution_count": null,
   "id": "0321490f-8dac-48b5-8b03-8350c29f6df7",
   "metadata": {},
   "outputs": [],
   "source": [
    "8.\tLoad Iris data-set. Use this to build a SVM classifier and find the accuracy of the model"
   ]
  },
  {
   "cell_type": "code",
   "execution_count": null,
   "id": "a30022be-d76c-4e54-b4a2-05052910ce71",
   "metadata": {},
   "outputs": [],
   "source": [
    "from sklearn.datasets import load_iris\n",
    "\n",
    "# Load Iris dataset\n",
    "iris = load_iris()\n",
    "X = iris.data  # Features\n",
    "y = iris.target  # Target variable\n"
   ]
  },
  {
   "cell_type": "code",
   "execution_count": null,
   "id": "2588f941-7f7a-4ab9-838d-a72f6999475e",
   "metadata": {},
   "outputs": [],
   "source": [
    "from sklearn.model_selection import train_test_split\n",
    "\n",
    "# Split data into training and testing sets\n",
    "X_train, X_test, y_train, y_test = train_test_split(X, y, test_size=0.2, random_state=42)\n"
   ]
  },
  {
   "cell_type": "code",
   "execution_count": null,
   "id": "d885efd0-2b94-4e6a-909f-30a29596fce2",
   "metadata": {},
   "outputs": [],
   "source": [
    "from sklearn.svm import SVC\n",
    "\n",
    "# Create and fit the model\n",
    "svm_model = SVC(kernel='rbf', random_state=42)\n",
    "svm_model.fit(X_train, y_train)\n"
   ]
  },
  {
   "cell_type": "code",
   "execution_count": null,
   "id": "2e8adf03-6bac-4b04-b839-94d926cedda9",
   "metadata": {},
   "outputs": [],
   "source": [
    "from sklearn.metrics import accuracy_score\n",
    "\n",
    "# Make predictions\n",
    "y_pred = svm_model.predict(X_test)\n",
    "\n",
    "# Compute accuracy\n",
    "accuracy = accuracy_score(y_test, y_pred)\n",
    "print(\"Accuracy of the SVM classifier on Iris dataset:\", accuracy)\n"
   ]
  },
  {
   "cell_type": "code",
   "execution_count": null,
   "id": "1bc5f1ce-c0cb-4a9f-b8dd-4c98617b0046",
   "metadata": {},
   "outputs": [],
   "source": [
    "----------------------------------------------------------------------------------------------------------------------------"
   ]
  },
  {
   "cell_type": "code",
   "execution_count": null,
   "id": "7a64c21d-97d7-4b01-81d3-20f5900f5c99",
   "metadata": {},
   "outputs": [],
   "source": [
    "9.\tLoad Breast Cancer Wisconsin (Diagnostic) data-set. Use this to build a SVM classifier and find the accuracy of the model."
   ]
  },
  {
   "cell_type": "code",
   "execution_count": null,
   "id": "cf85edab-177c-426e-b2b0-2f69494ec8c4",
   "metadata": {},
   "outputs": [],
   "source": [
    "from sklearn.datasets import load_breast_cancer\n",
    "\n",
    "# Load Breast Cancer Wisconsin dataset\n",
    "breast_cancer = load_breast_cancer()\n",
    "X = breast_cancer.data  # Features\n",
    "y = breast_cancer.target  # Target variable (0: benign, 1: malignant)\n"
   ]
  },
  {
   "cell_type": "code",
   "execution_count": null,
   "id": "19066252-40c4-4164-9e01-b37396617ca9",
   "metadata": {},
   "outputs": [],
   "source": [
    "from sklearn.model_selection import train_test_split\n",
    "\n",
    "# Split data into training and testing sets\n",
    "X_train, X_test, y_train, y_test = train_test_split(X, y, test_size=0.2, random_state=42)\n"
   ]
  },
  {
   "cell_type": "code",
   "execution_count": null,
   "id": "25b4ff52-616f-4f94-a8d2-8e5543c32e0d",
   "metadata": {},
   "outputs": [],
   "source": [
    "from sklearn.svm import SVC\n",
    "\n",
    "# Create and fit the model\n",
    "svm_model = SVC(kernel='linear', random_state=42)\n",
    "svm_model.fit(X_train, y_train)\n"
   ]
  },
  {
   "cell_type": "code",
   "execution_count": null,
   "id": "2237d84f-dce6-4cf5-a357-b8da578f9cf1",
   "metadata": {},
   "outputs": [],
   "source": [
    "from sklearn.metrics import accuracy_score\n",
    "\n",
    "# Make predictions\n",
    "y_pred = svm_model.predict(X_test)\n",
    "\n",
    "# Compute accuracy\n",
    "accuracy = accuracy_score(y_test, y_pred)\n",
    "print(\"Accuracy of the SVM classifier on Breast Cancer Wisconsin dataset:\", accuracy)\n"
   ]
  },
  {
   "cell_type": "code",
   "execution_count": null,
   "id": "cbf64912-ae8c-4481-b02c-a65f3cd7f5ff",
   "metadata": {},
   "outputs": [],
   "source": [
    "-------------------------------------------------------------------------------------------------------------------------------------"
   ]
  },
  {
   "cell_type": "code",
   "execution_count": null,
   "id": "d8396105-ec05-4a31-81cb-1b2396ae11ff",
   "metadata": {},
   "outputs": [],
   "source": [
    "10.\tLoad the data from Iris data-set. Use this to build a Decision Tree model and compute the accuracy of model."
   ]
  },
  {
   "cell_type": "code",
   "execution_count": null,
   "id": "ff868d11-ada6-4ffb-a758-7a7f423e7e6c",
   "metadata": {},
   "outputs": [],
   "source": [
    "from sklearn.datasets import load_iris\n",
    "\n",
    "# Load Iris dataset\n",
    "iris = load_iris()\n",
    "X = iris.data  # Features\n",
    "y = iris.target  # Target variable\n"
   ]
  },
  {
   "cell_type": "code",
   "execution_count": null,
   "id": "8bf309c8-19dc-410a-ba57-c9e40e2222af",
   "metadata": {},
   "outputs": [],
   "source": [
    "from sklearn.model_selection import train_test_split\n",
    "\n",
    "# Split data into training and testing sets\n",
    "X_train, X_test, y_train, y_test = train_test_split(X, y, test_size=0.2, random_state=42)\n"
   ]
  },
  {
   "cell_type": "code",
   "execution_count": null,
   "id": "71886f00-18fe-4610-a4ac-f662012d647a",
   "metadata": {},
   "outputs": [],
   "source": [
    "from sklearn.tree import DecisionTreeClassifier\n",
    "\n",
    "# Create and fit the model\n",
    "tree_model = DecisionTreeClassifier(random_state=42)\n",
    "tree_model.fit(X_train, y_train)\n"
   ]
  },
  {
   "cell_type": "code",
   "execution_count": null,
   "id": "808ae4f9-4e73-4d6e-9351-12b9eae3a7e2",
   "metadata": {},
   "outputs": [],
   "source": [
    "from sklearn.metrics import accuracy_score\n",
    "\n",
    "# Make predictions\n",
    "y_pred = tree_model.predict(X_test)\n",
    "\n",
    "# Compute accuracy\n",
    "accuracy = accuracy_score(y_test, y_pred)\n",
    "print(\"Accuracy of the Decision Tree classifier on Iris dataset:\", accuracy)\n"
   ]
  },
  {
   "cell_type": "code",
   "execution_count": null,
   "id": "94f589d1-4096-4991-940c-e2e887f43ece",
   "metadata": {},
   "outputs": [],
   "source": [
    "-------------------------------------------------------------------------------------------------------------------------------"
   ]
  },
  {
   "cell_type": "code",
   "execution_count": null,
   "id": "7241c495-3770-48fc-9b48-6c3fce2f14f4",
   "metadata": {},
   "outputs": [],
   "source": [
    "11.\tLoad the data from Titanic data-set. Use this to build a Decision Tree model and compute the accuracy of model."
   ]
  },
  {
   "cell_type": "code",
   "execution_count": null,
   "id": "03b65897-e447-4a3f-8d15-10bd9f66e680",
   "metadata": {},
   "outputs": [],
   "source": [
    "import pandas as pd\n",
    "from sklearn.model_selection import train_test_split\n",
    "from sklearn.preprocessing import LabelEncoder\n",
    "\n",
    "# Load Titanic dataset\n",
    "df = pd.read_csv('titanic.csv')\n",
    "\n",
    "# Preprocess the data\n",
    "df.drop(['PassengerId', 'Name', 'Ticket', 'Cabin'], axis=1, inplace=True)\n",
    "df['Age'].fillna(df['Age'].median(), inplace=True)\n",
    "df['Embarked'].fillna(df['Embarked'].mode()[0], inplace=True)\n",
    "\n",
    "# Encode categorical variables\n",
    "label_encoder = LabelEncoder()\n",
    "df['Sex'] = label_encoder.fit_transform(df['Sex'])\n",
    "df['Embarked'] = label_encoder.fit_transform(df['Embarked'])\n",
    "\n",
    "# Separate features and target variable\n",
    "X = df.drop(['Survived'], axis=1)\n",
    "y = df['Survived']\n",
    "\n",
    "# Split data into training and testing sets\n",
    "X_train, X_test, y_train, y_test = train_test_split(X, y, test_size=0.2, random_state=42)\n"
   ]
  },
  {
   "cell_type": "code",
   "execution_count": null,
   "id": "d6abf2f8-6bf3-48aa-a906-14410dbaabdf",
   "metadata": {},
   "outputs": [],
   "source": [
    "from sklearn.tree import DecisionTreeClassifier\n",
    "\n",
    "# Create and fit the model\n",
    "tree_model = DecisionTreeClassifier(random_state=42)\n",
    "tree_model.fit(X_train, y_train)\n"
   ]
  },
  {
   "cell_type": "code",
   "execution_count": null,
   "id": "014a2519-122c-47b1-ad38-947734816210",
   "metadata": {},
   "outputs": [],
   "source": [
    "from sklearn.metrics import accuracy_score\n",
    "\n",
    "# Make predictions\n",
    "y_pred = tree_model.predict(X_test)\n",
    "\n",
    "# Compute accuracy\n",
    "accuracy = accuracy_score(y_test, y_pred)\n",
    "print(\"Accuracy of the Decision Tree classifier on Titanic dataset:\", accuracy)\n"
   ]
  },
  {
   "cell_type": "code",
   "execution_count": null,
   "id": "da9fd92f-4f69-4fe2-bbe9-76bbf68ef1ee",
   "metadata": {},
   "outputs": [],
   "source": [
    "--------------------------------------------------------------------------------------------------------------------------------"
   ]
  },
  {
   "cell_type": "code",
   "execution_count": null,
   "id": "06d31f73-fe22-4b28-8ce5-cf1a3843aad2",
   "metadata": {},
   "outputs": [],
   "source": [
    "12.\tLoad Titanic data-set. Use this to build kNN classifier and compute the accuracy of model."
   ]
  },
  {
   "cell_type": "code",
   "execution_count": null,
   "id": "523bf976-61c2-47b6-9c4f-7d60291347e4",
   "metadata": {},
   "outputs": [],
   "source": [
    "import pandas as pd\n",
    "from sklearn.model_selection import train_test_split\n",
    "from sklearn.preprocessing import LabelEncoder\n",
    "\n",
    "# Load Titanic dataset\n",
    "df = pd.read_csv('titanic.csv')\n",
    "\n",
    "# Preprocess the data\n",
    "df.drop(['PassengerId', 'Name', 'Ticket', 'Cabin'], axis=1, inplace=True)\n",
    "df['Age'].fillna(df['Age'].median(), inplace=True)\n",
    "df['Embarked'].fillna(df['Embarked'].mode()[0], inplace=True)\n",
    "\n",
    "# Encode categorical variables\n",
    "label_encoder = LabelEncoder()\n",
    "df['Sex'] = label_encoder.fit_transform(df['Sex'])\n",
    "df['Embarked'] = label_encoder.fit_transform(df['Embarked'])\n",
    "\n",
    "# Separate features and target variable\n",
    "X = df.drop(['Survived'], axis=1)\n",
    "y = df['Survived']\n",
    "\n",
    "# Split data into training and testing sets\n",
    "X_train, X_test, y_train, y_test = train_test_split(X, y, test_size=0.2, random_state=42)\n"
   ]
  },
  {
   "cell_type": "code",
   "execution_count": null,
   "id": "f02c04fd-a8f6-420f-a620-94c93367cd27",
   "metadata": {},
   "outputs": [],
   "source": [
    "from sklearn.neighbors import KNeighborsClassifier\n",
    "\n",
    "# Create and fit the model\n",
    "knn_model = KNeighborsClassifier(n_neighbors=5)\n",
    "knn_model.fit(X_train, y_train)\n"
   ]
  },
  {
   "cell_type": "code",
   "execution_count": null,
   "id": "8670ccfb-bd1c-4af1-8c65-32674d65b68e",
   "metadata": {},
   "outputs": [],
   "source": [
    "from sklearn.metrics import accuracy_score\n",
    "\n",
    "# Make predictions\n",
    "y_pred = knn_model.predict(X_test)\n",
    "\n",
    "# Compute accuracy\n",
    "accuracy = accuracy_score(y_test, y_pred)\n",
    "print(\"Accuracy of the kNN classifier on Titanic dataset:\", accuracy)\n"
   ]
  },
  {
   "cell_type": "code",
   "execution_count": null,
   "id": "fc3c0a15-66cd-46ad-be12-71c3eb7441d2",
   "metadata": {},
   "outputs": [],
   "source": [
    "--------------------------------------------------------------------------------------------------------------------------"
   ]
  },
  {
   "cell_type": "code",
   "execution_count": null,
   "id": "6656bdad-41fc-4a3d-98a3-11925dee6a98",
   "metadata": {},
   "outputs": [],
   "source": [
    "13.\tLoad Iris data-set. Use this to build kNN classifier and compute the accuracy of model."
   ]
  },
  {
   "cell_type": "code",
   "execution_count": null,
   "id": "8443f6e2-9a12-4611-a2b4-1df0e477f5ab",
   "metadata": {},
   "outputs": [],
   "source": [
    "from sklearn.datasets import load_iris\n",
    "\n",
    "# Load Iris dataset\n",
    "iris = load_iris()\n",
    "X = iris.data  # Features\n",
    "y = iris.target  # Target variable\n"
   ]
  },
  {
   "cell_type": "code",
   "execution_count": null,
   "id": "b3f1a41d-c6d1-4140-bf1f-697e257eb2a6",
   "metadata": {},
   "outputs": [],
   "source": [
    "from sklearn.model_selection import train_test_split\n",
    "\n",
    "# Split data into training and testing sets\n",
    "X_train, X_test, y_train, y_test = train_test_split(X, y, test_size=0.2, random_state=42)\n"
   ]
  },
  {
   "cell_type": "code",
   "execution_count": null,
   "id": "7ff2a156-6b60-41a7-bb0b-89a0ccb5d1ab",
   "metadata": {},
   "outputs": [],
   "source": [
    "from sklearn.neighbors import KNeighborsClassifier\n",
    "\n",
    "# Create and fit the model\n",
    "knn_model = KNeighborsClassifier(n_neighbors=3)  # You can adjust the number of neighbors (k) as needed\n",
    "knn_model.fit(X_train, y_train)\n"
   ]
  },
  {
   "cell_type": "code",
   "execution_count": null,
   "id": "6024683d-849f-410b-9743-91413dde4288",
   "metadata": {},
   "outputs": [],
   "source": [
    "from sklearn.metrics import accuracy_score\n",
    "\n",
    "# Make predictions\n",
    "y_pred = knn_model.predict(X_test)\n",
    "\n",
    "# Compute accuracy\n",
    "accuracy = accuracy_score(y_test, y_pred)\n",
    "print(\"Accuracy of the kNN classifier on Iris dataset:\", accuracy)\n"
   ]
  },
  {
   "cell_type": "code",
   "execution_count": null,
   "id": "ba4195b1-b031-4052-a90b-44d2f5398dca",
   "metadata": {},
   "outputs": [],
   "source": [
    "---------------------------------------------------------------------------------------------------------------------------------------"
   ]
  },
  {
   "cell_type": "code",
   "execution_count": null,
   "id": "da87da58-7e8b-44bf-ad0a-c424eb0be370",
   "metadata": {},
   "outputs": [],
   "source": [
    "14.\tLoad Iris data-set. Perform k-means Clustering over it."
   ]
  },
  {
   "cell_type": "code",
   "execution_count": null,
   "id": "fd8eb28b-2a6c-4285-be3d-174c7e084428",
   "metadata": {},
   "outputs": [],
   "source": [
    "from sklearn.datasets import load_iris\n",
    "\n",
    "# Load Iris dataset\n",
    "iris = load_iris()\n",
    "X = iris.data  # Features\n"
   ]
  },
  {
   "cell_type": "code",
   "execution_count": null,
   "id": "a0220505-ec57-4b85-af92-d6b5f0ebea82",
   "metadata": {},
   "outputs": [],
   "source": [
    "from sklearn.cluster import KMeans\n",
    "\n",
    "# Create k-means model\n",
    "kmeans = KMeans(n_clusters=3, random_state=42)  # Assuming we want to cluster into 3 groups\n",
    "kmeans.fit(X)\n",
    "\n",
    "# Get cluster centers and labels\n",
    "cluster_centers = kmeans.cluster_centers_\n",
    "labels = kmeans.labels_\n"
   ]
  },
  {
   "cell_type": "code",
   "execution_count": null,
   "id": "81a32d03-b3ca-435d-a735-4066ccd42fa7",
   "metadata": {},
   "outputs": [],
   "source": [
    "import matplotlib.pyplot as plt\n",
    "\n",
    "# Visualize clusters for the first two features (you can choose other features for visualization)\n",
    "plt.scatter(X[:, 0], X[:, 1], c=labels, cmap='viridis')\n",
    "plt.scatter(cluster_centers[:, 0], cluster_centers[:, 1], marker='x', s=100, color='red', label='Centroids')\n",
    "plt.xlabel('Feature 1')\n",
    "plt.ylabel('Feature 2')\n",
    "plt.title('k-means Clustering on Iris Dataset')\n",
    "plt.legend()\n",
    "plt.show()\n"
   ]
  },
  {
   "cell_type": "code",
   "execution_count": null,
   "id": "14419856-631d-49b6-a037-79bee9e9801c",
   "metadata": {},
   "outputs": [],
   "source": []
  }
 ],
 "metadata": {
  "kernelspec": {
   "display_name": "Python 3 (ipykernel)",
   "language": "python",
   "name": "python3"
  },
  "language_info": {
   "codemirror_mode": {
    "name": "ipython",
    "version": 3
   },
   "file_extension": ".py",
   "mimetype": "text/x-python",
   "name": "python",
   "nbconvert_exporter": "python",
   "pygments_lexer": "ipython3",
   "version": "3.11.7"
  }
 },
 "nbformat": 4,
 "nbformat_minor": 5
}
